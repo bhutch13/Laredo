{
 "cells": [
  {
   "cell_type": "code",
   "execution_count": 1,
   "metadata": {},
   "outputs": [],
   "source": [
    "import pandas as pd"
   ]
  },
  {
   "cell_type": "code",
   "execution_count": 6,
   "metadata": {
    "scrolled": true
   },
   "outputs": [],
   "source": [
    "laredo = pd.read_csv(\"top30_loc_by_county.csv\")"
   ]
  },
  {
   "cell_type": "code",
   "execution_count": 11,
   "metadata": {
    "scrolled": true
   },
   "outputs": [
    {
     "data": {
      "text/html": [
       "<div>\n",
       "<style scoped>\n",
       "    .dataframe tbody tr th:only-of-type {\n",
       "        vertical-align: middle;\n",
       "    }\n",
       "\n",
       "    .dataframe tbody tr th {\n",
       "        vertical-align: top;\n",
       "    }\n",
       "\n",
       "    .dataframe thead th {\n",
       "        text-align: right;\n",
       "    }\n",
       "</style>\n",
       "<table border=\"1\" class=\"dataframe\">\n",
       "  <thead>\n",
       "    <tr style=\"text-align: right;\">\n",
       "      <th></th>\n",
       "      <th>Search by counties</th>\n",
       "    </tr>\n",
       "  </thead>\n",
       "  <tbody>\n",
       "    <tr>\n",
       "      <th>0</th>\n",
       "      <td>****Cameron*****************************</td>\n",
       "    </tr>\n",
       "    <tr>\n",
       "      <th>1</th>\n",
       "      <td>30984 SH 100</td>\n",
       "    </tr>\n",
       "    <tr>\n",
       "      <th>2</th>\n",
       "      <td>SAN BENITO, TX 78586</td>\n",
       "    </tr>\n",
       "    <tr>\n",
       "      <th>3</th>\n",
       "      <td>3.7 Miles Away</td>\n",
       "    </tr>\n",
       "    <tr>\n",
       "      <th>4</th>\n",
       "      <td>More Restaurants Near You</td>\n",
       "    </tr>\n",
       "    <tr>\n",
       "      <th>5</th>\n",
       "      <td>2</td>\n",
       "    </tr>\n",
       "    <tr>\n",
       "      <th>6</th>\n",
       "      <td>Restaurant #2281</td>\n",
       "    </tr>\n",
       "    <tr>\n",
       "      <th>7</th>\n",
       "      <td>101 E. OCEAN BOULEVARD</td>\n",
       "    </tr>\n",
       "    <tr>\n",
       "      <th>8</th>\n",
       "      <td>LOS FRESNOS, TX 78566</td>\n",
       "    </tr>\n",
       "    <tr>\n",
       "      <th>9</th>\n",
       "      <td>5 Miles Away</td>\n",
       "    </tr>\n",
       "    <tr>\n",
       "      <th>10</th>\n",
       "      <td>3</td>\n",
       "    </tr>\n",
       "    <tr>\n",
       "      <th>11</th>\n",
       "      <td>Restaurant #9678</td>\n",
       "    </tr>\n",
       "    <tr>\n",
       "      <th>12</th>\n",
       "      <td>898 N. SAM HOUSTON BOULEVARD</td>\n",
       "    </tr>\n",
       "    <tr>\n",
       "      <th>13</th>\n",
       "      <td>SAN BENITO, TX 78586</td>\n",
       "    </tr>\n",
       "    <tr>\n",
       "      <th>14</th>\n",
       "      <td>6.3 Miles Away</td>\n",
       "    </tr>\n",
       "    <tr>\n",
       "      <th>15</th>\n",
       "      <td>4</td>\n",
       "    </tr>\n",
       "    <tr>\n",
       "      <th>16</th>\n",
       "      <td>Restaurant #9637</td>\n",
       "    </tr>\n",
       "    <tr>\n",
       "      <th>17</th>\n",
       "      <td>304 S. SAM HOUSTON BOULEVARD</td>\n",
       "    </tr>\n",
       "    <tr>\n",
       "      <th>18</th>\n",
       "      <td>SAN BENITO, TX 78586</td>\n",
       "    </tr>\n",
       "    <tr>\n",
       "      <th>19</th>\n",
       "      <td>6.8 Miles Away</td>\n",
       "    </tr>\n",
       "  </tbody>\n",
       "</table>\n",
       "</div>"
      ],
      "text/plain": [
       "                          Search by counties\n",
       "0   ****Cameron*****************************\n",
       "1                               30984 SH 100\n",
       "2                       SAN BENITO, TX 78586\n",
       "3                             3.7 Miles Away\n",
       "4                  More Restaurants Near You\n",
       "5                                          2\n",
       "6                           Restaurant #2281\n",
       "7                     101 E. OCEAN BOULEVARD\n",
       "8                      LOS FRESNOS, TX 78566\n",
       "9                               5 Miles Away\n",
       "10                                         3\n",
       "11                          Restaurant #9678\n",
       "12              898 N. SAM HOUSTON BOULEVARD\n",
       "13                      SAN BENITO, TX 78586\n",
       "14                            6.3 Miles Away\n",
       "15                                         4\n",
       "16                          Restaurant #9637\n",
       "17              304 S. SAM HOUSTON BOULEVARD\n",
       "18                      SAN BENITO, TX 78586\n",
       "19                            6.8 Miles Away"
      ]
     },
     "execution_count": 11,
     "metadata": {},
     "output_type": "execute_result"
    }
   ],
   "source": [
    "laredo.head(20)"
   ]
  },
  {
   "cell_type": "code",
   "execution_count": 9,
   "metadata": {
    "scrolled": true
   },
   "outputs": [
    {
     "data": {
      "text/html": [
       "<div>\n",
       "<style scoped>\n",
       "    .dataframe tbody tr th:only-of-type {\n",
       "        vertical-align: middle;\n",
       "    }\n",
       "\n",
       "    .dataframe tbody tr th {\n",
       "        vertical-align: top;\n",
       "    }\n",
       "\n",
       "    .dataframe thead th {\n",
       "        text-align: right;\n",
       "    }\n",
       "</style>\n",
       "<table border=\"1\" class=\"dataframe\">\n",
       "  <thead>\n",
       "    <tr style=\"text-align: right;\">\n",
       "      <th></th>\n",
       "      <th>Search by counties</th>\n",
       "    </tr>\n",
       "  </thead>\n",
       "  <tbody>\n",
       "    <tr>\n",
       "      <th>count</th>\n",
       "      <td>602</td>\n",
       "    </tr>\n",
       "    <tr>\n",
       "      <th>unique</th>\n",
       "      <td>339</td>\n",
       "    </tr>\n",
       "    <tr>\n",
       "      <th>top</th>\n",
       "      <td>HARLINGEN, TX 78550</td>\n",
       "    </tr>\n",
       "    <tr>\n",
       "      <th>freq</th>\n",
       "      <td>20</td>\n",
       "    </tr>\n",
       "  </tbody>\n",
       "</table>\n",
       "</div>"
      ],
      "text/plain": [
       "         Search by counties\n",
       "count                   602\n",
       "unique                  339\n",
       "top     HARLINGEN, TX 78550\n",
       "freq                     20"
      ]
     },
     "execution_count": 9,
     "metadata": {},
     "output_type": "execute_result"
    }
   ],
   "source": [
    "laredo.describe()"
   ]
  },
  {
   "cell_type": "markdown",
   "metadata": {},
   "source": [
    "## Data Cleaning"
   ]
  },
  {
   "cell_type": "markdown",
   "metadata": {},
   "source": [
    "Find restaurant then pivot out next to values into new columns "
   ]
  },
  {
   "cell_type": "code",
   "execution_count": 26,
   "metadata": {},
   "outputs": [],
   "source": [
    "restaurant_num = []\n",
    "for x in laredo['Search by counties']:\n",
    "    if 'Restaurant #' in x:\n",
    "        restaurant_num.append(x)  "
   ]
  },
  {
   "cell_type": "code",
   "execution_count": 27,
   "metadata": {},
   "outputs": [
    {
     "name": "stdout",
     "output_type": "stream",
     "text": [
      "['Restaurant #2281', 'Restaurant #9678', 'Restaurant #9637', 'Restaurant #9136', 'Restaurant #2226', 'Restaurant #2217', 'Restaurant #9115', 'Restaurant #2199', 'Restaurant #5138', 'Restaurant #5147', 'Restaurant #2258', 'Restaurant #9135', 'Restaurant #9823', 'Restaurant #2162', 'Restaurant #2263', 'Restaurant #2166', 'Restaurant #9839', 'Restaurant #2203', 'Restaurant #2465', 'Restaurant #7795', 'Restaurant #9651', 'Restaurant #2188', 'Restaurant #5146', 'Restaurant #5145', 'Restaurant #7085', 'Restaurant #9108', 'Restaurant #9112', 'Restaurant #2171', 'Restaurant #2186', 'Restaurant #2206', 'Restaurant #5094', 'Restaurant #2437', 'Restaurant #2559', 'Restaurant #2457', 'Restaurant #2212', 'Restaurant #2570', 'Restaurant #2198', 'Restaurant #9143', 'Restaurant #2219', 'Restaurant #9111', 'Restaurant #9134', 'Restaurant #2207', 'Restaurant #2220', 'Restaurant #5116', 'Restaurant #7317', 'Restaurant #2265', 'Restaurant #9126', 'Restaurant #9132', 'Restaurant #2225', 'Restaurant #9124', 'Restaurant #9680', 'Restaurant #2404', 'Restaurant #9130', 'Restaurant #9133', 'Restaurant #40642', 'Restaurant #9139', 'Restaurant #2466', 'Restaurant #9110', 'Restaurant #2404', 'Restaurant #9132', 'Restaurant #5115', 'Restaurant #7791', 'Restaurant #9648', 'Restaurant #2198', 'Restaurant #9125', 'Restaurant #9110', 'Restaurant #5081', 'Restaurant #9773', 'Restaurant #5116', 'Restaurant #9145', 'Restaurant #2212', 'Restaurant #2156', 'Restaurant #9137', 'Restaurant #2481', 'Restaurant #2509', 'Restaurant #2232', 'Restaurant #2570', 'Restaurant #2225', 'Restaurant #2466', 'Restaurant #2216', 'Restaurant #9680', 'Restaurant #9632', 'Restaurant #9139', 'Restaurant #2214', 'Restaurant #9134', 'Restaurant #9130', 'Restaurant #9644', 'Restaurant #9673', 'Restaurant #2277', 'Restaurant #2478', 'Restaurant #7311', 'Restaurant #2242', 'Restaurant #2194', 'Restaurant #2230', 'Restaurant #2203', 'Restaurant #2226', 'Restaurant #2228', 'Restaurant #2211', 'Restaurant #9651', 'Restaurant #9839', 'Restaurant #9112', 'Restaurant #9135', 'Restaurant #5147', 'Restaurant #5146', 'Restaurant #5138', 'Restaurant #7795', 'Restaurant #9823', 'Restaurant #2199', 'Restaurant #2218', 'Restaurant #9107', 'Restaurant #2247', 'Restaurant #9115', 'Restaurant #9678', 'Restaurant #9637', 'Restaurant #2243', 'Restaurant #2214', 'Restaurant #2251', 'Restaurant #9634']\n"
     ]
    }
   ],
   "source": [
    "print(restaurant_num)"
   ]
  },
  {
   "cell_type": "code",
   "execution_count": 28,
   "metadata": {},
   "outputs": [],
   "source": [
    "laredo_rest_num = laredo.append(restaurant_num)"
   ]
  },
  {
   "cell_type": "code",
   "execution_count": 35,
   "metadata": {},
   "outputs": [
    {
     "data": {
      "text/plain": [
       "list"
      ]
     },
     "execution_count": 35,
     "metadata": {},
     "output_type": "execute_result"
    }
   ],
   "source": [
    "type(restaurant_num)"
   ]
  },
  {
   "cell_type": "code",
   "execution_count": 36,
   "metadata": {},
   "outputs": [
    {
     "data": {
      "text/plain": [
       "pandas.core.frame.DataFrame"
      ]
     },
     "execution_count": 36,
     "metadata": {},
     "output_type": "execute_result"
    }
   ],
   "source": [
    "type(laredo_rest_num)"
   ]
  },
  {
   "cell_type": "code",
   "execution_count": 41,
   "metadata": {},
   "outputs": [
    {
     "name": "stdout",
     "output_type": "stream",
     "text": [
      "<class 'pandas.core.frame.DataFrame'>\n",
      "Int64Index: 720 entries, 0 to 117\n",
      "Data columns (total 2 columns):\n",
      " #   Column              Non-Null Count  Dtype \n",
      "---  ------              --------------  ----- \n",
      " 0   Search by counties  602 non-null    object\n",
      " 1   0                   118 non-null    object\n",
      "dtypes: object(2)\n",
      "memory usage: 16.9+ KB\n"
     ]
    }
   ],
   "source": [
    "laredo_rest_num.info()"
   ]
  },
  {
   "cell_type": "code",
   "execution_count": 59,
   "metadata": {},
   "outputs": [
    {
     "ename": "TypeError",
     "evalue": "'RangeIndex' object is not callable",
     "output_type": "error",
     "traceback": [
      "\u001b[1;31m---------------------------------------------------------------------------\u001b[0m",
      "\u001b[1;31mTypeError\u001b[0m                                 Traceback (most recent call last)",
      "\u001b[1;32m<ipython-input-59-907a166e30dd>\u001b[0m in \u001b[0;36m<module>\u001b[1;34m\u001b[0m\n\u001b[0;32m      2\u001b[0m \u001b[1;32mfor\u001b[0m \u001b[0mx\u001b[0m \u001b[1;32min\u001b[0m \u001b[0mlaredo\u001b[0m\u001b[1;33m[\u001b[0m\u001b[1;34m'Search by counties'\u001b[0m\u001b[1;33m]\u001b[0m\u001b[1;33m:\u001b[0m\u001b[1;33m\u001b[0m\u001b[1;33m\u001b[0m\u001b[0m\n\u001b[0;32m      3\u001b[0m     \u001b[1;32mif\u001b[0m \u001b[1;34m'Restaurant #'\u001b[0m \u001b[1;32min\u001b[0m \u001b[0mx\u001b[0m\u001b[1;33m:\u001b[0m\u001b[1;33m\u001b[0m\u001b[1;33m\u001b[0m\u001b[0m\n\u001b[1;32m----> 4\u001b[1;33m         \u001b[0my\u001b[0m \u001b[1;33m=\u001b[0m \u001b[0mlaredo\u001b[0m\u001b[1;33m[\u001b[0m\u001b[1;34m'Search by counties'\u001b[0m\u001b[1;33m]\u001b[0m\u001b[1;33m.\u001b[0m\u001b[0mindex\u001b[0m\u001b[1;33m(\u001b[0m\u001b[0mx\u001b[0m\u001b[1;33m)\u001b[0m\u001b[1;33m\u001b[0m\u001b[1;33m\u001b[0m\u001b[0m\n\u001b[0m\u001b[0;32m      5\u001b[0m         \u001b[1;31m#address.append(laredo['Search by counties'])\u001b[0m\u001b[1;33m\u001b[0m\u001b[1;33m\u001b[0m\u001b[1;33m\u001b[0m\u001b[0m\n",
      "\u001b[1;31mTypeError\u001b[0m: 'RangeIndex' object is not callable"
     ]
    }
   ],
   "source": [
    "address = []\n",
    "for x in laredo['Search by counties']:\n",
    "    if 'Restaurant #' in x:\n",
    "        y = laredo['Search by counties'].index(x)\n",
    "        #address.append(laredo['Search by counties'])  "
   ]
  },
  {
   "cell_type": "code",
   "execution_count": 60,
   "metadata": {},
   "outputs": [
    {
     "ename": "TypeError",
     "evalue": "'RangeIndex' object is not callable",
     "output_type": "error",
     "traceback": [
      "\u001b[1;31m---------------------------------------------------------------------------\u001b[0m",
      "\u001b[1;31mTypeError\u001b[0m                                 Traceback (most recent call last)",
      "\u001b[1;32m<ipython-input-60-fe89dbbbc92f>\u001b[0m in \u001b[0;36m<module>\u001b[1;34m\u001b[0m\n\u001b[1;32m----> 1\u001b[1;33m \u001b[0mlaredo\u001b[0m\u001b[1;33m[\u001b[0m\u001b[1;34m'Search by counties'\u001b[0m\u001b[1;33m]\u001b[0m\u001b[1;33m.\u001b[0m\u001b[0mindex\u001b[0m\u001b[1;33m(\u001b[0m\u001b[1;34m'Restaurant #2265'\u001b[0m\u001b[1;33m)\u001b[0m\u001b[1;33m\u001b[0m\u001b[1;33m\u001b[0m\u001b[0m\n\u001b[0m",
      "\u001b[1;31mTypeError\u001b[0m: 'RangeIndex' object is not callable"
     ]
    }
   ],
   "source": [
    "laredo['Search by counties'].index('Restaurant #2265')"
   ]
  },
  {
   "cell_type": "code",
   "execution_count": 62,
   "metadata": {},
   "outputs": [],
   "source": [
    "rotate = laredo_rest_num.melt(id_vars=[\"Search by counties\"], \n",
    "        var_name=\"Address\", \n",
    "        value_name=\"Value\")"
   ]
  },
  {
   "cell_type": "code",
   "execution_count": 63,
   "metadata": {},
   "outputs": [
    {
     "name": "stdout",
     "output_type": "stream",
     "text": [
      "                           Search by counties Address             Value\n",
      "0    ****Cameron*****************************       0               NaN\n",
      "1                                30984 SH 100       0               NaN\n",
      "2                        SAN BENITO, TX 78586       0               NaN\n",
      "3                              3.7 Miles Away       0               NaN\n",
      "4                   More Restaurants Near You       0               NaN\n",
      "..                                        ...     ...               ...\n",
      "715                                       NaN       0  Restaurant #9637\n",
      "716                                       NaN       0  Restaurant #2243\n",
      "717                                       NaN       0  Restaurant #2214\n",
      "718                                       NaN       0  Restaurant #2251\n",
      "719                                       NaN       0  Restaurant #9634\n",
      "\n",
      "[720 rows x 3 columns]\n"
     ]
    }
   ],
   "source": [
    "print(rotate)"
   ]
  },
  {
   "cell_type": "code",
   "execution_count": null,
   "metadata": {},
   "outputs": [],
   "source": []
  }
 ],
 "metadata": {
  "kernelspec": {
   "display_name": "Python 3",
   "language": "python",
   "name": "python3"
  },
  "language_info": {
   "codemirror_mode": {
    "name": "ipython",
    "version": 3
   },
   "file_extension": ".py",
   "mimetype": "text/x-python",
   "name": "python",
   "nbconvert_exporter": "python",
   "pygments_lexer": "ipython3",
   "version": "3.7.6"
  }
 },
 "nbformat": 4,
 "nbformat_minor": 4
}
